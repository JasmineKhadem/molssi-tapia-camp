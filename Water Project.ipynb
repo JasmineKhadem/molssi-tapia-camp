{
 "cells": [
  {
   "cell_type": "markdown",
   "metadata": {},
   "source": [
    "## Geometry Analysis Project"
   ]
  },
  {
   "cell_type": "code",
   "execution_count": 65,
   "metadata": {},
   "outputs": [],
   "source": [
    "import numpy\n",
    "import os"
   ]
  },
  {
   "cell_type": "code",
   "execution_count": 66,
   "metadata": {},
   "outputs": [
    {
     "name": "stdout",
     "output_type": "stream",
     "text": [
      "water.xyz\n"
     ]
    }
   ],
   "source": [
    "file_location= os.path.join('water.xyz')\n",
    "print(file_location)"
   ]
  },
  {
   "cell_type": "code",
   "execution_count": 67,
   "metadata": {},
   "outputs": [],
   "source": [
    "#def function_name(parameters):\n",
    "#***code goes***\n",
    "# return value_to_return"
   ]
  },
  {
   "cell_type": "code",
   "execution_count": 68,
   "metadata": {},
   "outputs": [],
   "source": [
    "def calculate_distance(coords1, coords2):\n",
    "    \"\"\"\"\n",
    "    This function has two arguments, the coordinates of two atoms. It returns the distance between two atoms.\n",
    "    \"\"\"\n",
    "    x_distance=coords1[0]-coords2[0]\n",
    "    y_distance=coords1[1]-coords2[1]\n",
    "    z_distance=coords1[2]-coords2[2]\n",
    "    distance_12=numpy.sqrt(x_distance**2+y_distance**2+z_distance**2)\n",
    "    return distance_12"
   ]
  },
  {
   "cell_type": "code",
   "execution_count": 79,
   "metadata": {},
   "outputs": [],
   "source": [
    "def bond_check(distance):\n",
    "    \"\"\"\n",
    "    Checks a distance to see if it;s a bond.\n",
    "    \"\"\"\n",
    "    if distance >0 and distance<1.5:\n",
    "        return True\n",
    "    else:\n",
    "        return False\n"
   ]
  },
  {
   "cell_type": "code",
   "execution_count": 70,
   "metadata": {},
   "outputs": [
    {
     "name": "stdout",
     "output_type": "stream",
     "text": [
      "[['O' '0.000000' '-0.007156' '0.965491']\n",
      " ['H1' '-0.000000' '0.001486' '-0.003471']\n",
      " ['H2' '0.000000' '0.931026' '1.207929']]\n"
     ]
    }
   ],
   "source": [
    "xyz_file=numpy.genfromtxt(fname=file_location, dtype='unicode', skip_header=2)\n",
    "print(xyz_file)"
   ]
  },
  {
   "cell_type": "code",
   "execution_count": 71,
   "metadata": {},
   "outputs": [
    {
     "name": "stdout",
     "output_type": "stream",
     "text": [
      "['O' 'H1' 'H2']\n"
     ]
    }
   ],
   "source": [
    "symbols = xyz_file[:,0]\n",
    "print(symbols)"
   ]
  },
  {
   "cell_type": "code",
   "execution_count": 72,
   "metadata": {},
   "outputs": [
    {
     "name": "stdout",
     "output_type": "stream",
     "text": [
      "[['0.000000' '-0.007156' '0.965491']\n",
      " ['-0.000000' '0.001486' '-0.003471']\n",
      " ['0.000000' '0.931026' '1.207929']]\n"
     ]
    }
   ],
   "source": [
    "coordinates=xyz_file[:,1:]\n",
    "print(coordinates)"
   ]
  },
  {
   "cell_type": "code",
   "execution_count": 73,
   "metadata": {},
   "outputs": [
    {
     "name": "stdout",
     "output_type": "stream",
     "text": [
      "[[ 0.       -0.007156  0.965491]\n",
      " [-0.        0.001486 -0.003471]\n",
      " [ 0.        0.931026  1.207929]]\n"
     ]
    }
   ],
   "source": [
    "coordinates = coordinates.astype(numpy.float)\n",
    "print(coordinates)"
   ]
  },
  {
   "cell_type": "code",
   "execution_count": 74,
   "metadata": {},
   "outputs": [
    {
     "name": "stdout",
     "output_type": "stream",
     "text": [
      "O to O:0.0\n",
      "O to H1:0.008642\n",
      "O to H2:0.9381820000000001\n",
      "H1 to O:0.008642\n",
      "H1 to H1:0.0\n",
      "H1 to H2:0.92954\n",
      "H2 to O:0.9381820000000001\n",
      "H2 to H1:0.92954\n",
      "H2 to H2:0.0\n"
     ]
    }
   ],
   "source": [
    "num_atoms=len(symbols)\n",
    "for num1 in range(0, num_atoms):\n",
    "    for num2 in range(0,num_atoms):\n",
    "        x_distance=coordinates[num1,0]-coordinates[num2,0]\n",
    "        y_distance=coordinates[num1,1]-coordinates[num2,1]\n",
    "        z_distance=coordinates[num1,2]-coordinates[num2,2]\n",
    "        distance_12=numpy.sqrt(x_distance**2+y_distance**2+x_distance**2)\n",
    "        print(F'{symbols[num1]} to {symbols[num2]}:{distance_12}')"
   ]
  },
  {
   "cell_type": "code",
   "execution_count": 75,
   "metadata": {},
   "outputs": [
    {
     "name": "stdout",
     "output_type": "stream",
     "text": [
      "H1 to O:0.969\n",
      "H2 to O:0.969\n"
     ]
    }
   ],
   "source": [
    "num_atoms=len(symbols)\n",
    "for num1 in range(0, num_atoms):\n",
    "    for num2 in range(0,num_atoms):\n",
    "        if num1>num2:\n",
    "            x_distance=coordinates[num1,0]-coordinates[num2,0]\n",
    "            y_distance=coordinates[num1,1]-coordinates[num2,1]\n",
    "            z_distance=coordinates[num1,2]-coordinates[num2,2]\n",
    "            distance_12=numpy.sqrt(x_distance**2+y_distance**2+z_distance**2)\n",
    "            if distance_12<1.5:\n",
    "                print(F'{symbols[num1]} to {symbols[num2]}:{distance_12:.3f}')"
   ]
  },
  {
   "cell_type": "code",
   "execution_count": 87,
   "metadata": {},
   "outputs": [
    {
     "name": "stdout",
     "output_type": "stream",
     "text": [
      "H1 to O:0.969\n",
      "H2 to O:0.969\n"
     ]
    }
   ],
   "source": [
    "num_atoms=len(symbols)\n",
    "for num1 in range(0, num_atoms):\n",
    "    for num2 in range(0,num_atoms):\n",
    "        if num1>num2:\n",
    "            distance_12=calculate_distance(coordinates[num1], coordinates[num2])\n",
    "            if bond_check(distance_12) is True:\n",
    "                print(F'{symbols[num1]} to {symbols[num2]}:{distance_12:.3f}')"
   ]
  },
  {
   "cell_type": "code",
   "execution_count": null,
   "metadata": {},
   "outputs": [],
   "source": []
  },
  {
   "cell_type": "code",
   "execution_count": null,
   "metadata": {},
   "outputs": [],
   "source": []
  },
  {
   "cell_type": "code",
   "execution_count": null,
   "metadata": {},
   "outputs": [],
   "source": []
  }
 ],
 "metadata": {
  "kernelspec": {
   "display_name": "Python 3",
   "language": "python",
   "name": "python3"
  },
  "language_info": {
   "codemirror_mode": {
    "name": "ipython",
    "version": 3
   },
   "file_extension": ".py",
   "mimetype": "text/x-python",
   "name": "python",
   "nbconvert_exporter": "python",
   "pygments_lexer": "ipython3",
   "version": "3.7.3"
  }
 },
 "nbformat": 4,
 "nbformat_minor": 2
}
